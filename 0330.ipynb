{
  "nbformat": 4,
  "nbformat_minor": 0,
  "metadata": {
    "colab": {
      "name": "0330.ipynb",
      "provenance": [],
      "collapsed_sections": [],
      "include_colab_link": true
    },
    "kernelspec": {
      "name": "ir",
      "display_name": "R"
    }
  },
  "cells": [
    {
      "cell_type": "markdown",
      "metadata": {
        "id": "view-in-github",
        "colab_type": "text"
      },
      "source": [
        "<a href=\"https://colab.research.google.com/github/S10859051/bigdata/blob/main/0330.ipynb\" target=\"_parent\"><img src=\"https://colab.research.google.com/assets/colab-badge.svg\" alt=\"Open In Colab\"/></a>"
      ]
    },
    {
      "cell_type": "code",
      "metadata": {
        "colab": {
          "base_uri": "https://localhost:8080/"
        },
        "id": "SAnW8lOG8fVX",
        "outputId": "12dbbc39-0dca-43b4-9110-6c40d8672344"
      },
      "source": [
        "install.packages(\"rJava\")\n",
        "install.packages(\"jiebaR\")\n",
        "install.packages(\"tmcn\")\n",
        "install.packages(\"dplyr\")\n",
        "install.packages(\"lubridate\")\n",
        "install.packages(\"stringr\")\n",
        "install.packages(\"wordcloud\")\n",
        "install.packages(\"Rwordseg\",repos=\"http://R-Forge.R-project.org\")"
      ],
      "execution_count": null,
      "outputs": [
        {
          "output_type": "stream",
          "text": [
            "Installing package into ‘/usr/local/lib/R/site-library’\n",
            "(as ‘lib’ is unspecified)\n",
            "\n",
            "Installing package into ‘/usr/local/lib/R/site-library’\n",
            "(as ‘lib’ is unspecified)\n",
            "\n",
            "also installing the dependency ‘jiebaRD’\n",
            "\n",
            "\n",
            "Installing package into ‘/usr/local/lib/R/site-library’\n",
            "(as ‘lib’ is unspecified)\n",
            "\n",
            "Installing package into ‘/usr/local/lib/R/site-library’\n",
            "(as ‘lib’ is unspecified)\n",
            "\n",
            "Installing package into ‘/usr/local/lib/R/site-library’\n",
            "(as ‘lib’ is unspecified)\n",
            "\n",
            "Installing package into ‘/usr/local/lib/R/site-library’\n",
            "(as ‘lib’ is unspecified)\n",
            "\n",
            "Installing package into ‘/usr/local/lib/R/site-library’\n",
            "(as ‘lib’ is unspecified)\n",
            "\n",
            "Installing package into ‘/usr/local/lib/R/site-library’\n",
            "(as ‘lib’ is unspecified)\n",
            "\n",
            "Warning message:\n",
            "“dependency ‘HMM’ is not available”\n",
            "Warning message in install.packages(\"Rwordseg\", repos = \"http://R-Forge.R-project.org\"):\n",
            "“installation of package ‘Rwordseg’ had non-zero exit status”\n"
          ],
          "name": "stderr"
        }
      ]
    },
    {
      "cell_type": "code",
      "metadata": {
        "colab": {
          "base_uri": "https://localhost:8080/"
        },
        "id": "m_7JArf-9ERj",
        "outputId": "61c95d4c-1e8f-47ec-f0b4-48d53ddbaf08"
      },
      "source": [
        "library(dplyr)\n",
        "library(lubridate)\n",
        "library(stringr)\n",
        "library(jiebaR)\n",
        "library(wordcloud)"
      ],
      "execution_count": null,
      "outputs": [
        {
          "output_type": "stream",
          "text": [
            "\n",
            "Attaching package: ‘dplyr’\n",
            "\n",
            "\n",
            "The following objects are masked from ‘package:stats’:\n",
            "\n",
            "    filter, lag\n",
            "\n",
            "\n",
            "The following objects are masked from ‘package:base’:\n",
            "\n",
            "    intersect, setdiff, setequal, union\n",
            "\n",
            "\n",
            "Warning message in system(\"timedatectl\", intern = TRUE):\n",
            "“running command 'timedatectl' had status 1”\n",
            "\n",
            "Attaching package: ‘lubridate’\n",
            "\n",
            "\n",
            "The following objects are masked from ‘package:base’:\n",
            "\n",
            "    date, intersect, setdiff, union\n",
            "\n",
            "\n",
            "Loading required package: jiebaRD\n",
            "\n",
            "Loading required package: RColorBrewer\n",
            "\n"
          ],
          "name": "stderr"
        }
      ]
    },
    {
      "cell_type": "code",
      "metadata": {
        "id": "MVdE5Xnw9b3a"
      },
      "source": [
        "content<-\"嚴重特殊傳染性肺炎疫情持續在全球蔓延，已造成三千多萬⼈感染，死亡⼈數破百萬⼈，歐美醫療體系幾近崩潰，各種⾏動限制對於各國之經濟更有莫⼤之衝擊。 然⽽台灣未實⾏⼤規模封鎖⾏動，維持正常上班上課與各種經濟活動，至今無⼤規模疫情爆發，醫療體系也仍能正常提供民眾服務，顯⽰台灣的防疫政策正確⽽有效， 獲得世界各國⾼度肯定。國家衛⽣研究院群體健康科學研究所與感染症與疫苗研究所合作，利⽤真實數據與數學模型證實，良好的邊境管控，詳盡的疫情調查， 確實的隔離與檢疫，以及民眾遵⾏防疫措施，為台灣抗疫四⼤⽀柱。台灣也對世界各國提供各項協助與經驗分享，期望幫助各國盡快從疫情的陰霾中⾛出。0\""
      ],
      "execution_count": null,
      "outputs": []
    },
    {
      "cell_type": "code",
      "metadata": {
        "id": "-7Z2xknr9ez1"
      },
      "source": [
        "cutter<-worker(bylines=F)"
      ],
      "execution_count": null,
      "outputs": []
    },
    {
      "cell_type": "code",
      "metadata": {
        "colab": {
          "base_uri": "https://localhost:8080/",
          "height": 202
        },
        "id": "zuDF-LCJ9nIm",
        "outputId": "1e0c43c4-1acf-40e1-91f2-6cf5be81ecc1"
      },
      "source": [
        "cutter[content]"
      ],
      "execution_count": null,
      "outputs": [
        {
          "output_type": "display_data",
          "data": {
            "text/plain": [
              "  [1] \"嚴重\"     \"特殊\"     \"傳染性\"   \"肺炎\"     \"疫情\"     \"持續\"    \n",
              "  [7] \"在\"       \"全球\"     \"蔓延\"     \"已\"       \"造成\"     \"三千多萬\"\n",
              " [13] \"⼈\"       \"感染\"     \"死亡\"     \"⼈\"       \"數\"       \"破\"      \n",
              " [19] \"百萬\"     \"⼈\"       \"歐美\"     \"醫療\"     \"體系\"     \"幾近\"    \n",
              " [25] \"崩潰\"     \"各種\"     \"⾏\"       \"動\"       \"限制\"     \"對於\"    \n",
              " [31] \"各國\"     \"之\"       \"經濟\"     \"更\"       \"有莫\"     \"⼤\"      \n",
              " [37] \"之\"       \"衝擊\"     \"然\"       \"⽽\"       \"台\"       \"灣\"      \n",
              " [43] \"未\"       \"實\"       \"⾏\"       \"⼤\"       \"規模\"     \"封鎖\"    \n",
              " [49] \"⾏\"       \"動\"       \"維持\"     \"正常\"     \"上班\"     \"上課\"    \n",
              " [55] \"與\"       \"各種\"     \"經濟\"     \"活動\"     \"至今\"     \"無\"      \n",
              " [61] \"⼤\"       \"規模\"     \"疫情\"     \"爆發\"     \"醫療\"     \"體系\"    \n",
              " [67] \"也\"       \"仍\"       \"能\"       \"正常\"     \"提供\"     \"民眾\"    \n",
              " [73] \"服務\"     \"顯\"       \"⽰\"       \"台\"       \"灣\"       \"的\"      \n",
              " [79] \"防疫\"     \"政策\"     \"正確\"     \"⽽\"       \"有效\"     \"獲得\"    \n",
              " [85] \"世界\"     \"各國\"     \"⾼\"       \"度\"       \"肯定\"     \"國家\"    \n",
              " [91] \"衛\"       \"⽣\"       \"研究院\"   \"群體\"     \"健康\"     \"科學\"    \n",
              " [97] \"研究所\"   \"與\"       \"感染\"     \"症\"       \"與\"       \"疫苗\"    \n",
              "[103] \"研究所\"   \"合作\"     \"利\"       \"⽤\"       \"真實\"     \"數據\"    \n",
              "[109] \"與\"       \"數學模型\" \"證實\"     \"良好\"     \"的\"       \"邊境\"    \n",
              "[115] \"管控\"     \"詳盡\"     \"的\"       \"疫情\"     \"調查\"     \"確實\"    \n",
              "[121] \"的\"       \"隔離\"     \"與\"       \"檢疫\"     \"以及\"     \"民眾遵\"  \n",
              "[127] \"⾏\"       \"防疫\"     \"措施\"     \"為\"       \"台灣\"     \"抗疫四\"  \n",
              "[133] \"⼤\"       \"⽀\"       \"柱\"       \"台灣\"     \"也\"       \"對\"      \n",
              "[139] \"世界\"     \"各國\"     \"提供\"     \"各項\"     \"協助\"     \"與\"      \n",
              "[145] \"經驗\"     \"分享\"     \"期望\"     \"幫助\"     \"各國\"     \"盡快\"    \n",
              "[151] \"從\"       \"疫情\"     \"的\"       \"陰霾\"     \"中\"       \"⾛\"      \n",
              "[157] \"出\"       \"0\"       "
            ],
            "text/latex": "\\begin{enumerate*}\n\\item '嚴重'\n\\item '特殊'\n\\item '傳染性'\n\\item '肺炎'\n\\item '疫情'\n\\item '持續'\n\\item '在'\n\\item '全球'\n\\item '蔓延'\n\\item '已'\n\\item '造成'\n\\item '三千多萬'\n\\item '⼈'\n\\item '感染'\n\\item '死亡'\n\\item '⼈'\n\\item '數'\n\\item '破'\n\\item '百萬'\n\\item '⼈'\n\\item '歐美'\n\\item '醫療'\n\\item '體系'\n\\item '幾近'\n\\item '崩潰'\n\\item '各種'\n\\item '⾏'\n\\item '動'\n\\item '限制'\n\\item '對於'\n\\item '各國'\n\\item '之'\n\\item '經濟'\n\\item '更'\n\\item '有莫'\n\\item '⼤'\n\\item '之'\n\\item '衝擊'\n\\item '然'\n\\item '⽽'\n\\item '台'\n\\item '灣'\n\\item '未'\n\\item '實'\n\\item '⾏'\n\\item '⼤'\n\\item '規模'\n\\item '封鎖'\n\\item '⾏'\n\\item '動'\n\\item '維持'\n\\item '正常'\n\\item '上班'\n\\item '上課'\n\\item '與'\n\\item '各種'\n\\item '經濟'\n\\item '活動'\n\\item '至今'\n\\item '無'\n\\item '⼤'\n\\item '規模'\n\\item '疫情'\n\\item '爆發'\n\\item '醫療'\n\\item '體系'\n\\item '也'\n\\item '仍'\n\\item '能'\n\\item '正常'\n\\item '提供'\n\\item '民眾'\n\\item '服務'\n\\item '顯'\n\\item '⽰'\n\\item '台'\n\\item '灣'\n\\item '的'\n\\item '防疫'\n\\item '政策'\n\\item '正確'\n\\item '⽽'\n\\item '有效'\n\\item '獲得'\n\\item '世界'\n\\item '各國'\n\\item '⾼'\n\\item '度'\n\\item '肯定'\n\\item '國家'\n\\item '衛'\n\\item '⽣'\n\\item '研究院'\n\\item '群體'\n\\item '健康'\n\\item '科學'\n\\item '研究所'\n\\item '與'\n\\item '感染'\n\\item '症'\n\\item '與'\n\\item '疫苗'\n\\item '研究所'\n\\item '合作'\n\\item '利'\n\\item '⽤'\n\\item '真實'\n\\item '數據'\n\\item '與'\n\\item '數學模型'\n\\item '證實'\n\\item '良好'\n\\item '的'\n\\item '邊境'\n\\item '管控'\n\\item '詳盡'\n\\item '的'\n\\item '疫情'\n\\item '調查'\n\\item '確實'\n\\item '的'\n\\item '隔離'\n\\item '與'\n\\item '檢疫'\n\\item '以及'\n\\item '民眾遵'\n\\item '⾏'\n\\item '防疫'\n\\item '措施'\n\\item '為'\n\\item '台灣'\n\\item '抗疫四'\n\\item '⼤'\n\\item '⽀'\n\\item '柱'\n\\item '台灣'\n\\item '也'\n\\item '對'\n\\item '世界'\n\\item '各國'\n\\item '提供'\n\\item '各項'\n\\item '協助'\n\\item '與'\n\\item '經驗'\n\\item '分享'\n\\item '期望'\n\\item '幫助'\n\\item '各國'\n\\item '盡快'\n\\item '從'\n\\item '疫情'\n\\item '的'\n\\item '陰霾'\n\\item '中'\n\\item '⾛'\n\\item '出'\n\\item '0'\n\\end{enumerate*}\n",
            "text/markdown": "1. '嚴重'\n2. '特殊'\n3. '傳染性'\n4. '肺炎'\n5. '疫情'\n6. '持續'\n7. '在'\n8. '全球'\n9. '蔓延'\n10. '已'\n11. '造成'\n12. '三千多萬'\n13. '⼈'\n14. '感染'\n15. '死亡'\n16. '⼈'\n17. '數'\n18. '破'\n19. '百萬'\n20. '⼈'\n21. '歐美'\n22. '醫療'\n23. '體系'\n24. '幾近'\n25. '崩潰'\n26. '各種'\n27. '⾏'\n28. '動'\n29. '限制'\n30. '對於'\n31. '各國'\n32. '之'\n33. '經濟'\n34. '更'\n35. '有莫'\n36. '⼤'\n37. '之'\n38. '衝擊'\n39. '然'\n40. '⽽'\n41. '台'\n42. '灣'\n43. '未'\n44. '實'\n45. '⾏'\n46. '⼤'\n47. '規模'\n48. '封鎖'\n49. '⾏'\n50. '動'\n51. '維持'\n52. '正常'\n53. '上班'\n54. '上課'\n55. '與'\n56. '各種'\n57. '經濟'\n58. '活動'\n59. '至今'\n60. '無'\n61. '⼤'\n62. '規模'\n63. '疫情'\n64. '爆發'\n65. '醫療'\n66. '體系'\n67. '也'\n68. '仍'\n69. '能'\n70. '正常'\n71. '提供'\n72. '民眾'\n73. '服務'\n74. '顯'\n75. '⽰'\n76. '台'\n77. '灣'\n78. '的'\n79. '防疫'\n80. '政策'\n81. '正確'\n82. '⽽'\n83. '有效'\n84. '獲得'\n85. '世界'\n86. '各國'\n87. '⾼'\n88. '度'\n89. '肯定'\n90. '國家'\n91. '衛'\n92. '⽣'\n93. '研究院'\n94. '群體'\n95. '健康'\n96. '科學'\n97. '研究所'\n98. '與'\n99. '感染'\n100. '症'\n101. '與'\n102. '疫苗'\n103. '研究所'\n104. '合作'\n105. '利'\n106. '⽤'\n107. '真實'\n108. '數據'\n109. '與'\n110. '數學模型'\n111. '證實'\n112. '良好'\n113. '的'\n114. '邊境'\n115. '管控'\n116. '詳盡'\n117. '的'\n118. '疫情'\n119. '調查'\n120. '確實'\n121. '的'\n122. '隔離'\n123. '與'\n124. '檢疫'\n125. '以及'\n126. '民眾遵'\n127. '⾏'\n128. '防疫'\n129. '措施'\n130. '為'\n131. '台灣'\n132. '抗疫四'\n133. '⼤'\n134. '⽀'\n135. '柱'\n136. '台灣'\n137. '也'\n138. '對'\n139. '世界'\n140. '各國'\n141. '提供'\n142. '各項'\n143. '協助'\n144. '與'\n145. '經驗'\n146. '分享'\n147. '期望'\n148. '幫助'\n149. '各國'\n150. '盡快'\n151. '從'\n152. '疫情'\n153. '的'\n154. '陰霾'\n155. '中'\n156. '⾛'\n157. '出'\n158. '0'\n\n\n",
            "text/html": [
              "<style>\n",
              ".list-inline {list-style: none; margin:0; padding: 0}\n",
              ".list-inline>li {display: inline-block}\n",
              ".list-inline>li:not(:last-child)::after {content: \"\\00b7\"; padding: 0 .5ex}\n",
              "</style>\n",
              "<ol class=list-inline><li>'嚴重'</li><li>'特殊'</li><li>'傳染性'</li><li>'肺炎'</li><li>'疫情'</li><li>'持續'</li><li>'在'</li><li>'全球'</li><li>'蔓延'</li><li>'已'</li><li>'造成'</li><li>'三千多萬'</li><li>'⼈'</li><li>'感染'</li><li>'死亡'</li><li>'⼈'</li><li>'數'</li><li>'破'</li><li>'百萬'</li><li>'⼈'</li><li>'歐美'</li><li>'醫療'</li><li>'體系'</li><li>'幾近'</li><li>'崩潰'</li><li>'各種'</li><li>'⾏'</li><li>'動'</li><li>'限制'</li><li>'對於'</li><li>'各國'</li><li>'之'</li><li>'經濟'</li><li>'更'</li><li>'有莫'</li><li>'⼤'</li><li>'之'</li><li>'衝擊'</li><li>'然'</li><li>'⽽'</li><li>'台'</li><li>'灣'</li><li>'未'</li><li>'實'</li><li>'⾏'</li><li>'⼤'</li><li>'規模'</li><li>'封鎖'</li><li>'⾏'</li><li>'動'</li><li>'維持'</li><li>'正常'</li><li>'上班'</li><li>'上課'</li><li>'與'</li><li>'各種'</li><li>'經濟'</li><li>'活動'</li><li>'至今'</li><li>'無'</li><li>'⼤'</li><li>'規模'</li><li>'疫情'</li><li>'爆發'</li><li>'醫療'</li><li>'體系'</li><li>'也'</li><li>'仍'</li><li>'能'</li><li>'正常'</li><li>'提供'</li><li>'民眾'</li><li>'服務'</li><li>'顯'</li><li>'⽰'</li><li>'台'</li><li>'灣'</li><li>'的'</li><li>'防疫'</li><li>'政策'</li><li>'正確'</li><li>'⽽'</li><li>'有效'</li><li>'獲得'</li><li>'世界'</li><li>'各國'</li><li>'⾼'</li><li>'度'</li><li>'肯定'</li><li>'國家'</li><li>'衛'</li><li>'⽣'</li><li>'研究院'</li><li>'群體'</li><li>'健康'</li><li>'科學'</li><li>'研究所'</li><li>'與'</li><li>'感染'</li><li>'症'</li><li>'與'</li><li>'疫苗'</li><li>'研究所'</li><li>'合作'</li><li>'利'</li><li>'⽤'</li><li>'真實'</li><li>'數據'</li><li>'與'</li><li>'數學模型'</li><li>'證實'</li><li>'良好'</li><li>'的'</li><li>'邊境'</li><li>'管控'</li><li>'詳盡'</li><li>'的'</li><li>'疫情'</li><li>'調查'</li><li>'確實'</li><li>'的'</li><li>'隔離'</li><li>'與'</li><li>'檢疫'</li><li>'以及'</li><li>'民眾遵'</li><li>'⾏'</li><li>'防疫'</li><li>'措施'</li><li>'為'</li><li>'台灣'</li><li>'抗疫四'</li><li>'⼤'</li><li>'⽀'</li><li>'柱'</li><li>'台灣'</li><li>'也'</li><li>'對'</li><li>'世界'</li><li>'各國'</li><li>'提供'</li><li>'各項'</li><li>'協助'</li><li>'與'</li><li>'經驗'</li><li>'分享'</li><li>'期望'</li><li>'幫助'</li><li>'各國'</li><li>'盡快'</li><li>'從'</li><li>'疫情'</li><li>'的'</li><li>'陰霾'</li><li>'中'</li><li>'⾛'</li><li>'出'</li><li>'0'</li></ol>\n"
            ]
          },
          "metadata": {
            "tags": []
          }
        }
      ]
    },
    {
      "cell_type": "code",
      "metadata": {
        "colab": {
          "base_uri": "https://localhost:8080/",
          "height": 185
        },
        "id": "cvh0Lfmh9puY",
        "outputId": "b07b06af-341c-447e-f403-6da9817feab6"
      },
      "source": [
        "new_words<-c(\"傳染性肺炎\",\"醫療體系\",\"防疫措施\")\n",
        "writeLines(new_words,\"new_words.txt\")\n",
        "\n",
        "stop_words<-c(\"在\",\"之\",\"更\",\"個\",\"未\",\"而\",\"也\")\n",
        "writeLines(stop_words,\"stop_words.txt\")\n",
        "\n",
        "cutter<-worker(user=\"new_words.txt\",stop_word=\"stop_words.txt\",bylines=FALSE)\n",
        "seg_words<-cutter[content]\n",
        "seg_words"
      ],
      "execution_count": null,
      "outputs": [
        {
          "output_type": "display_data",
          "data": {
            "text/plain": [
              "  [1] \"嚴重\"       \"特殊\"       \"傳染性肺炎\" \"疫情\"       \"持續\"      \n",
              "  [6] \"全球\"       \"蔓延\"       \"已\"         \"造成\"       \"三千多萬\"  \n",
              " [11] \"⼈\"         \"感染\"       \"死亡\"       \"⼈\"         \"數\"        \n",
              " [16] \"破\"         \"百萬\"       \"⼈\"         \"歐美\"       \"醫療體系\"  \n",
              " [21] \"幾近\"       \"崩潰\"       \"各種\"       \"⾏\"         \"動\"        \n",
              " [26] \"限制\"       \"對於\"       \"各國\"       \"經濟\"       \"有莫\"      \n",
              " [31] \"⼤\"         \"衝擊\"       \"然\"         \"⽽\"         \"台\"        \n",
              " [36] \"灣\"         \"實\"         \"⾏\"         \"⼤\"         \"規模\"      \n",
              " [41] \"封鎖\"       \"⾏\"         \"動\"         \"維持\"       \"正常\"      \n",
              " [46] \"上班\"       \"上課\"       \"與\"         \"各種\"       \"經濟\"      \n",
              " [51] \"活動\"       \"至今\"       \"無\"         \"⼤\"         \"規模\"      \n",
              " [56] \"疫情\"       \"爆發\"       \"醫療體系\"   \"仍\"         \"能\"        \n",
              " [61] \"正常\"       \"提供\"       \"民眾\"       \"服務\"       \"顯\"        \n",
              " [66] \"⽰\"         \"台\"         \"灣\"         \"的\"         \"防疫\"      \n",
              " [71] \"政策\"       \"正確\"       \"⽽\"         \"有效\"       \"獲得\"      \n",
              " [76] \"世界\"       \"各國\"       \"⾼\"         \"度\"         \"肯定\"      \n",
              " [81] \"國家\"       \"衛\"         \"⽣\"         \"研究院\"     \"群體\"      \n",
              " [86] \"健康\"       \"科學\"       \"研究所\"     \"與\"         \"感染\"      \n",
              " [91] \"症\"         \"與\"         \"疫苗\"       \"研究所\"     \"合作\"      \n",
              " [96] \"利\"         \"⽤\"         \"真實\"       \"數據\"       \"與\"        \n",
              "[101] \"數學模型\"   \"證實\"       \"良好\"       \"的\"         \"邊境\"      \n",
              "[106] \"管控\"       \"詳盡\"       \"的\"         \"疫情\"       \"調查\"      \n",
              "[111] \"確實\"       \"的\"         \"隔離\"       \"與\"         \"檢疫\"      \n",
              "[116] \"以及\"       \"民眾遵\"     \"⾏\"         \"防疫措施\"   \"為\"        \n",
              "[121] \"台灣\"       \"抗疫四\"     \"⼤\"         \"⽀\"         \"柱\"        \n",
              "[126] \"台灣\"       \"對\"         \"世界\"       \"各國\"       \"提供\"      \n",
              "[131] \"各項\"       \"協助\"       \"與\"         \"經驗\"       \"分享\"      \n",
              "[136] \"期望\"       \"幫助\"       \"各國\"       \"盡快\"       \"從\"        \n",
              "[141] \"疫情\"       \"的\"         \"陰霾\"       \"中\"         \"⾛\"        \n",
              "[146] \"出\"         \"0\"         "
            ],
            "text/latex": "\\begin{enumerate*}\n\\item '嚴重'\n\\item '特殊'\n\\item '傳染性肺炎'\n\\item '疫情'\n\\item '持續'\n\\item '全球'\n\\item '蔓延'\n\\item '已'\n\\item '造成'\n\\item '三千多萬'\n\\item '⼈'\n\\item '感染'\n\\item '死亡'\n\\item '⼈'\n\\item '數'\n\\item '破'\n\\item '百萬'\n\\item '⼈'\n\\item '歐美'\n\\item '醫療體系'\n\\item '幾近'\n\\item '崩潰'\n\\item '各種'\n\\item '⾏'\n\\item '動'\n\\item '限制'\n\\item '對於'\n\\item '各國'\n\\item '經濟'\n\\item '有莫'\n\\item '⼤'\n\\item '衝擊'\n\\item '然'\n\\item '⽽'\n\\item '台'\n\\item '灣'\n\\item '實'\n\\item '⾏'\n\\item '⼤'\n\\item '規模'\n\\item '封鎖'\n\\item '⾏'\n\\item '動'\n\\item '維持'\n\\item '正常'\n\\item '上班'\n\\item '上課'\n\\item '與'\n\\item '各種'\n\\item '經濟'\n\\item '活動'\n\\item '至今'\n\\item '無'\n\\item '⼤'\n\\item '規模'\n\\item '疫情'\n\\item '爆發'\n\\item '醫療體系'\n\\item '仍'\n\\item '能'\n\\item '正常'\n\\item '提供'\n\\item '民眾'\n\\item '服務'\n\\item '顯'\n\\item '⽰'\n\\item '台'\n\\item '灣'\n\\item '的'\n\\item '防疫'\n\\item '政策'\n\\item '正確'\n\\item '⽽'\n\\item '有效'\n\\item '獲得'\n\\item '世界'\n\\item '各國'\n\\item '⾼'\n\\item '度'\n\\item '肯定'\n\\item '國家'\n\\item '衛'\n\\item '⽣'\n\\item '研究院'\n\\item '群體'\n\\item '健康'\n\\item '科學'\n\\item '研究所'\n\\item '與'\n\\item '感染'\n\\item '症'\n\\item '與'\n\\item '疫苗'\n\\item '研究所'\n\\item '合作'\n\\item '利'\n\\item '⽤'\n\\item '真實'\n\\item '數據'\n\\item '與'\n\\item '數學模型'\n\\item '證實'\n\\item '良好'\n\\item '的'\n\\item '邊境'\n\\item '管控'\n\\item '詳盡'\n\\item '的'\n\\item '疫情'\n\\item '調查'\n\\item '確實'\n\\item '的'\n\\item '隔離'\n\\item '與'\n\\item '檢疫'\n\\item '以及'\n\\item '民眾遵'\n\\item '⾏'\n\\item '防疫措施'\n\\item '為'\n\\item '台灣'\n\\item '抗疫四'\n\\item '⼤'\n\\item '⽀'\n\\item '柱'\n\\item '台灣'\n\\item '對'\n\\item '世界'\n\\item '各國'\n\\item '提供'\n\\item '各項'\n\\item '協助'\n\\item '與'\n\\item '經驗'\n\\item '分享'\n\\item '期望'\n\\item '幫助'\n\\item '各國'\n\\item '盡快'\n\\item '從'\n\\item '疫情'\n\\item '的'\n\\item '陰霾'\n\\item '中'\n\\item '⾛'\n\\item '出'\n\\item '0'\n\\end{enumerate*}\n",
            "text/markdown": "1. '嚴重'\n2. '特殊'\n3. '傳染性肺炎'\n4. '疫情'\n5. '持續'\n6. '全球'\n7. '蔓延'\n8. '已'\n9. '造成'\n10. '三千多萬'\n11. '⼈'\n12. '感染'\n13. '死亡'\n14. '⼈'\n15. '數'\n16. '破'\n17. '百萬'\n18. '⼈'\n19. '歐美'\n20. '醫療體系'\n21. '幾近'\n22. '崩潰'\n23. '各種'\n24. '⾏'\n25. '動'\n26. '限制'\n27. '對於'\n28. '各國'\n29. '經濟'\n30. '有莫'\n31. '⼤'\n32. '衝擊'\n33. '然'\n34. '⽽'\n35. '台'\n36. '灣'\n37. '實'\n38. '⾏'\n39. '⼤'\n40. '規模'\n41. '封鎖'\n42. '⾏'\n43. '動'\n44. '維持'\n45. '正常'\n46. '上班'\n47. '上課'\n48. '與'\n49. '各種'\n50. '經濟'\n51. '活動'\n52. '至今'\n53. '無'\n54. '⼤'\n55. '規模'\n56. '疫情'\n57. '爆發'\n58. '醫療體系'\n59. '仍'\n60. '能'\n61. '正常'\n62. '提供'\n63. '民眾'\n64. '服務'\n65. '顯'\n66. '⽰'\n67. '台'\n68. '灣'\n69. '的'\n70. '防疫'\n71. '政策'\n72. '正確'\n73. '⽽'\n74. '有效'\n75. '獲得'\n76. '世界'\n77. '各國'\n78. '⾼'\n79. '度'\n80. '肯定'\n81. '國家'\n82. '衛'\n83. '⽣'\n84. '研究院'\n85. '群體'\n86. '健康'\n87. '科學'\n88. '研究所'\n89. '與'\n90. '感染'\n91. '症'\n92. '與'\n93. '疫苗'\n94. '研究所'\n95. '合作'\n96. '利'\n97. '⽤'\n98. '真實'\n99. '數據'\n100. '與'\n101. '數學模型'\n102. '證實'\n103. '良好'\n104. '的'\n105. '邊境'\n106. '管控'\n107. '詳盡'\n108. '的'\n109. '疫情'\n110. '調查'\n111. '確實'\n112. '的'\n113. '隔離'\n114. '與'\n115. '檢疫'\n116. '以及'\n117. '民眾遵'\n118. '⾏'\n119. '防疫措施'\n120. '為'\n121. '台灣'\n122. '抗疫四'\n123. '⼤'\n124. '⽀'\n125. '柱'\n126. '台灣'\n127. '對'\n128. '世界'\n129. '各國'\n130. '提供'\n131. '各項'\n132. '協助'\n133. '與'\n134. '經驗'\n135. '分享'\n136. '期望'\n137. '幫助'\n138. '各國'\n139. '盡快'\n140. '從'\n141. '疫情'\n142. '的'\n143. '陰霾'\n144. '中'\n145. '⾛'\n146. '出'\n147. '0'\n\n\n",
            "text/html": [
              "<style>\n",
              ".list-inline {list-style: none; margin:0; padding: 0}\n",
              ".list-inline>li {display: inline-block}\n",
              ".list-inline>li:not(:last-child)::after {content: \"\\00b7\"; padding: 0 .5ex}\n",
              "</style>\n",
              "<ol class=list-inline><li>'嚴重'</li><li>'特殊'</li><li>'傳染性肺炎'</li><li>'疫情'</li><li>'持續'</li><li>'全球'</li><li>'蔓延'</li><li>'已'</li><li>'造成'</li><li>'三千多萬'</li><li>'⼈'</li><li>'感染'</li><li>'死亡'</li><li>'⼈'</li><li>'數'</li><li>'破'</li><li>'百萬'</li><li>'⼈'</li><li>'歐美'</li><li>'醫療體系'</li><li>'幾近'</li><li>'崩潰'</li><li>'各種'</li><li>'⾏'</li><li>'動'</li><li>'限制'</li><li>'對於'</li><li>'各國'</li><li>'經濟'</li><li>'有莫'</li><li>'⼤'</li><li>'衝擊'</li><li>'然'</li><li>'⽽'</li><li>'台'</li><li>'灣'</li><li>'實'</li><li>'⾏'</li><li>'⼤'</li><li>'規模'</li><li>'封鎖'</li><li>'⾏'</li><li>'動'</li><li>'維持'</li><li>'正常'</li><li>'上班'</li><li>'上課'</li><li>'與'</li><li>'各種'</li><li>'經濟'</li><li>'活動'</li><li>'至今'</li><li>'無'</li><li>'⼤'</li><li>'規模'</li><li>'疫情'</li><li>'爆發'</li><li>'醫療體系'</li><li>'仍'</li><li>'能'</li><li>'正常'</li><li>'提供'</li><li>'民眾'</li><li>'服務'</li><li>'顯'</li><li>'⽰'</li><li>'台'</li><li>'灣'</li><li>'的'</li><li>'防疫'</li><li>'政策'</li><li>'正確'</li><li>'⽽'</li><li>'有效'</li><li>'獲得'</li><li>'世界'</li><li>'各國'</li><li>'⾼'</li><li>'度'</li><li>'肯定'</li><li>'國家'</li><li>'衛'</li><li>'⽣'</li><li>'研究院'</li><li>'群體'</li><li>'健康'</li><li>'科學'</li><li>'研究所'</li><li>'與'</li><li>'感染'</li><li>'症'</li><li>'與'</li><li>'疫苗'</li><li>'研究所'</li><li>'合作'</li><li>'利'</li><li>'⽤'</li><li>'真實'</li><li>'數據'</li><li>'與'</li><li>'數學模型'</li><li>'證實'</li><li>'良好'</li><li>'的'</li><li>'邊境'</li><li>'管控'</li><li>'詳盡'</li><li>'的'</li><li>'疫情'</li><li>'調查'</li><li>'確實'</li><li>'的'</li><li>'隔離'</li><li>'與'</li><li>'檢疫'</li><li>'以及'</li><li>'民眾遵'</li><li>'⾏'</li><li>'防疫措施'</li><li>'為'</li><li>'台灣'</li><li>'抗疫四'</li><li>'⼤'</li><li>'⽀'</li><li>'柱'</li><li>'台灣'</li><li>'對'</li><li>'世界'</li><li>'各國'</li><li>'提供'</li><li>'各項'</li><li>'協助'</li><li>'與'</li><li>'經驗'</li><li>'分享'</li><li>'期望'</li><li>'幫助'</li><li>'各國'</li><li>'盡快'</li><li>'從'</li><li>'疫情'</li><li>'的'</li><li>'陰霾'</li><li>'中'</li><li>'⾛'</li><li>'出'</li><li>'0'</li></ol>\n"
            ]
          },
          "metadata": {
            "tags": []
          }
        }
      ]
    },
    {
      "cell_type": "code",
      "metadata": {
        "colab": {
          "base_uri": "https://localhost:8080/",
          "height": 271
        },
        "id": "yRWHDBjd-dNZ",
        "outputId": "f90362ee-a055-430a-b703-fec5f8a5d953"
      },
      "source": [
        "txt_freq<-freq(seg_words)\n",
        "txt_freq<-arrange(txt_freq,desc(freq))\n",
        "head(txt_freq)"
      ],
      "execution_count": null,
      "outputs": [
        {
          "output_type": "display_data",
          "data": {
            "text/plain": [
              "  char freq\n",
              "1 與   6   \n",
              "2 的   5   \n",
              "3 各國 4   \n",
              "4 ⼤   4   \n",
              "5 ⾏   4   \n",
              "6 疫情 4   "
            ],
            "text/latex": "A data.frame: 6 × 2\n\\begin{tabular}{r|ll}\n  & char & freq\\\\\n  & <chr> & <dbl>\\\\\n\\hline\n\t1 & 與   & 6\\\\\n\t2 & 的   & 5\\\\\n\t3 & 各國 & 4\\\\\n\t4 & ⼤   & 4\\\\\n\t5 & ⾏   & 4\\\\\n\t6 & 疫情 & 4\\\\\n\\end{tabular}\n",
            "text/markdown": "\nA data.frame: 6 × 2\n\n| <!--/--> | char &lt;chr&gt; | freq &lt;dbl&gt; |\n|---|---|---|\n| 1 | 與   | 6 |\n| 2 | 的   | 5 |\n| 3 | 各國 | 4 |\n| 4 | ⼤   | 4 |\n| 5 | ⾏   | 4 |\n| 6 | 疫情 | 4 |\n\n",
            "text/html": [
              "<table class=\"dataframe\">\n",
              "<caption>A data.frame: 6 × 2</caption>\n",
              "<thead>\n",
              "\t<tr><th></th><th scope=col>char</th><th scope=col>freq</th></tr>\n",
              "\t<tr><th></th><th scope=col>&lt;chr&gt;</th><th scope=col>&lt;dbl&gt;</th></tr>\n",
              "</thead>\n",
              "<tbody>\n",
              "\t<tr><th scope=row>1</th><td>與  </td><td>6</td></tr>\n",
              "\t<tr><th scope=row>2</th><td>的  </td><td>5</td></tr>\n",
              "\t<tr><th scope=row>3</th><td>各國</td><td>4</td></tr>\n",
              "\t<tr><th scope=row>4</th><td>⼤  </td><td>4</td></tr>\n",
              "\t<tr><th scope=row>5</th><td>⾏  </td><td>4</td></tr>\n",
              "\t<tr><th scope=row>6</th><td>疫情</td><td>4</td></tr>\n",
              "</tbody>\n",
              "</table>\n"
            ]
          },
          "metadata": {
            "tags": []
          }
        }
      ]
    },
    {
      "cell_type": "code",
      "metadata": {
        "colab": {
          "base_uri": "https://localhost:8080/",
          "height": 437
        },
        "id": "2-SRvqp_-u_j",
        "outputId": "61df0f6d-bdf0-441e-d40a-16edd0e5ec53"
      },
      "source": [
        "par(family=(\"Microsoft YaHei\"))\n",
        "wordcloud(txt_freq$char, txt_freq$freq, min.freq=2,random.order=F,ordered.colors=F,colors=rainbow(nrow(txt_freq)))"
      ],
      "execution_count": null,
      "outputs": [
        {
          "output_type": "display_data",
          "data": {
            "image/png": "[encoded data removed]",
            "text/plain": [
              "plot without title"
            ]
          },
          "metadata": {
            "tags": [],
            "image/png": {
              "width": 420,
              "height": 420
            }
          }
        }
      ]
    }
  ]
}