{
  "nbformat": 4,
  "nbformat_minor": 0,
  "metadata": {
    "colab": {
      "name": "0309.ipynb",
      "provenance": [],
      "collapsed_sections": [],
      "include_colab_link": true
    },
    "kernelspec": {
      "name": "ir",
      "display_name": "R"
    }
  },
  "cells": [
    {
      "cell_type": "markdown",
      "metadata": {
        "id": "view-in-github",
        "colab_type": "text"
      },
      "source": [
        "<a href=\"https://colab.research.google.com/github/S10859051/bigdata/blob/main/0309.ipynb\" target=\"_parent\"><img src=\"https://colab.research.google.com/assets/colab-badge.svg\" alt=\"Open In Colab\"/></a>"
      ]
    },
    {
      "cell_type": "code",
      "metadata": {
        "id": "rPH54CIZGT0I"
      },
      "source": [
        "a <- 5\r\n",
        "b <- 3.8\r\n",
        "c <- -1\r\n",
        "str(a)\r\n",
        "str(b)\r\n",
        "str(c)\r\n",
        "\r\n",
        "is.numeric(a)\r\n",
        "is.numeric(b)\r\n",
        "is.integer(a)\r\n",
        "is.integer(b)\r\n"
      ],
      "execution_count": null,
      "outputs": []
    },
    {
      "cell_type": "code",
      "metadata": {
        "id": "SPkTQZEWI3P4"
      },
      "source": [
        "d <- \"Hello\"\r\n",
        "e <- \"Hi\"\r\n",
        "str(d)\r\n",
        "str(e)"
      ],
      "execution_count": null,
      "outputs": []
    },
    {
      "cell_type": "code",
      "metadata": {
        "id": "dnv0pBJIKJL_"
      },
      "source": [
        "f <- c(5,4,3,2,1)\r\n",
        "g <- c(\"蔡英文\",\"賴清德\",\"蘇貞倉\")\r\n",
        "f[2]\r\n",
        "g[3]\r\n",
        "g[c(1,2)]"
      ],
      "execution_count": null,
      "outputs": []
    },
    {
      "cell_type": "code",
      "metadata": {
        "colab": {
          "base_uri": "https://localhost:8080/",
          "height": 67
        },
        "id": "2YBj0X-pMjUM",
        "outputId": "06e6cb51-52fd-4c78-939c-69d08915ef6c"
      },
      "source": [
        "h <- c(1,2,3,4,5,6,7,8,9)\r\n",
        "i <- c(2,3,4,5,6,7,8,9,10)\r\n",
        "\r\n",
        "h*i\r\n",
        "h^3\r\n",
        "i>5"
      ],
      "execution_count": 7,
      "outputs": [
        {
          "output_type": "display_data",
          "data": {
            "text/plain": [
              "[1]  2  6 12 20 30 42 56 72 90"
            ],
            "text/latex": "\\begin{enumerate*}\n\\item 2\n\\item 6\n\\item 12\n\\item 20\n\\item 30\n\\item 42\n\\item 56\n\\item 72\n\\item 90\n\\end{enumerate*}\n",
            "text/markdown": "1. 2\n2. 6\n3. 12\n4. 20\n5. 30\n6. 42\n7. 56\n8. 72\n9. 90\n\n\n",
            "text/html": [
              "<style>\n",
              ".list-inline {list-style: none; margin:0; padding: 0}\n",
              ".list-inline>li {display: inline-block}\n",
              ".list-inline>li:not(:last-child)::after {content: \"\\00b7\"; padding: 0 .5ex}\n",
              "</style>\n",
              "<ol class=list-inline><li>2</li><li>6</li><li>12</li><li>20</li><li>30</li><li>42</li><li>56</li><li>72</li><li>90</li></ol>\n"
            ]
          },
          "metadata": {
            "tags": []
          }
        },
        {
          "output_type": "display_data",
          "data": {
            "text/plain": [
              "[1]   1   8  27  64 125 216 343 512 729"
            ],
            "text/latex": "\\begin{enumerate*}\n\\item 1\n\\item 8\n\\item 27\n\\item 64\n\\item 125\n\\item 216\n\\item 343\n\\item 512\n\\item 729\n\\end{enumerate*}\n",
            "text/markdown": "1. 1\n2. 8\n3. 27\n4. 64\n5. 125\n6. 216\n7. 343\n8. 512\n9. 729\n\n\n",
            "text/html": [
              "<style>\n",
              ".list-inline {list-style: none; margin:0; padding: 0}\n",
              ".list-inline>li {display: inline-block}\n",
              ".list-inline>li:not(:last-child)::after {content: \"\\00b7\"; padding: 0 .5ex}\n",
              "</style>\n",
              "<ol class=list-inline><li>1</li><li>8</li><li>27</li><li>64</li><li>125</li><li>216</li><li>343</li><li>512</li><li>729</li></ol>\n"
            ]
          },
          "metadata": {
            "tags": []
          }
        },
        {
          "output_type": "display_data",
          "data": {
            "text/plain": [
              "[1] FALSE FALSE FALSE FALSE  TRUE  TRUE  TRUE  TRUE  TRUE"
            ],
            "text/latex": "\\begin{enumerate*}\n\\item FALSE\n\\item FALSE\n\\item FALSE\n\\item FALSE\n\\item TRUE\n\\item TRUE\n\\item TRUE\n\\item TRUE\n\\item TRUE\n\\end{enumerate*}\n",
            "text/markdown": "1. FALSE\n2. FALSE\n3. FALSE\n4. FALSE\n5. TRUE\n6. TRUE\n7. TRUE\n8. TRUE\n9. TRUE\n\n\n",
            "text/html": [
              "<style>\n",
              ".list-inline {list-style: none; margin:0; padding: 0}\n",
              ".list-inline>li {display: inline-block}\n",
              ".list-inline>li:not(:last-child)::after {content: \"\\00b7\"; padding: 0 .5ex}\n",
              "</style>\n",
              "<ol class=list-inline><li>FALSE</li><li>FALSE</li><li>FALSE</li><li>FALSE</li><li>TRUE</li><li>TRUE</li><li>TRUE</li><li>TRUE</li><li>TRUE</li></ol>\n"
            ]
          },
          "metadata": {
            "tags": []
          }
        }
      ]
    },
    {
      "cell_type": "code",
      "metadata": {
        "colab": {
          "base_uri": "https://localhost:8080/",
          "height": 67
        },
        "id": "uy7EmDEHNuwM",
        "outputId": "ba2a748f-0d70-4c9b-bc79-cc1f31942526"
      },
      "source": [
        "gender <- c(\"男\",\"女\",\"男\",\"男\",\"女\",\"中\")\r\n",
        "gender <- factor(gender)\r\n",
        "gender \r\n",
        "levels(gender)"
      ],
      "execution_count": 10,
      "outputs": [
        {
          "output_type": "display_data",
          "data": {
            "text/plain": [
              "[1] 男 女 男 男 女 中\n",
              "Levels: 中 女 男"
            ],
            "text/latex": "\\begin{enumerate*}\n\\item 男\n\\item 女\n\\item 男\n\\item 男\n\\item 女\n\\item 中\n\\end{enumerate*}\n\n\\emph{Levels}: \\begin{enumerate*}\n\\item '中'\n\\item '女'\n\\item '男'\n\\end{enumerate*}\n",
            "text/markdown": "1. 男\n2. 女\n3. 男\n4. 男\n5. 女\n6. 中\n\n\n\n**Levels**: 1. '中'\n2. '女'\n3. '男'\n\n\n",
            "text/html": [
              "<style>\n",
              ".list-inline {list-style: none; margin:0; padding: 0}\n",
              ".list-inline>li {display: inline-block}\n",
              ".list-inline>li:not(:last-child)::after {content: \"\\00b7\"; padding: 0 .5ex}\n",
              "</style>\n",
              "<ol class=list-inline><li>男</li><li>女</li><li>男</li><li>男</li><li>女</li><li>中</li></ol>\n",
              "\n",
              "<details>\n",
              "\t<summary style=display:list-item;cursor:pointer>\n",
              "\t\t<strong>Levels</strong>:\n",
              "\t</summary>\n",
              "\t<style>\n",
              "\t.list-inline {list-style: none; margin:0; padding: 0}\n",
              "\t.list-inline>li {display: inline-block}\n",
              "\t.list-inline>li:not(:last-child)::after {content: \"\\00b7\"; padding: 0 .5ex}\n",
              "\t</style>\n",
              "\t<ol class=list-inline><li>'中'</li><li>'女'</li><li>'男'</li></ol>\n",
              "</details>"
            ]
          },
          "metadata": {
            "tags": []
          }
        },
        {
          "output_type": "display_data",
          "data": {
            "text/plain": [
              "[1] \"中\" \"女\" \"男\""
            ],
            "text/latex": "\\begin{enumerate*}\n\\item '中'\n\\item '女'\n\\item '男'\n\\end{enumerate*}\n",
            "text/markdown": "1. '中'\n2. '女'\n3. '男'\n\n\n",
            "text/html": [
              "<style>\n",
              ".list-inline {list-style: none; margin:0; padding: 0}\n",
              ".list-inline>li {display: inline-block}\n",
              ".list-inline>li:not(:last-child)::after {content: \"\\00b7\"; padding: 0 .5ex}\n",
              "</style>\n",
              "<ol class=list-inline><li>'中'</li><li>'女'</li><li>'男'</li></ol>\n"
            ]
          },
          "metadata": {
            "tags": []
          }
        }
      ]
    },
    {
      "cell_type": "code",
      "metadata": {
        "colab": {
          "base_uri": "https://localhost:8080/",
          "height": 333
        },
        "id": "xGK2JRKHPm-9",
        "outputId": "4a1bc3b1-0b7b-41eb-ad61-1ce4f26acd81"
      },
      "source": [
        "j <- matrix (c(1:6), nrow=3, ncol=2 )\r\n",
        "j\r\n",
        "k <- matrix (c(7:12), nrow=2, ncol=3 )\r\n",
        "k\r\n",
        "\r\n",
        "j[2,2]\r\n",
        "j[2,]\r\n",
        "j[,2]"
      ],
      "execution_count": 16,
      "outputs": [
        {
          "output_type": "display_data",
          "data": {
            "text/plain": [
              "     [,1] [,2]\n",
              "[1,] 1    4   \n",
              "[2,] 2    5   \n",
              "[3,] 3    6   "
            ],
            "text/latex": "A matrix: 3 × 2 of type int\n\\begin{tabular}{ll}\n\t 1 & 4\\\\\n\t 2 & 5\\\\\n\t 3 & 6\\\\\n\\end{tabular}\n",
            "text/markdown": "\nA matrix: 3 × 2 of type int\n\n| 1 | 4 |\n| 2 | 5 |\n| 3 | 6 |\n\n",
            "text/html": [
              "<table class=\"dataframe\">\n",
              "<caption>A matrix: 3 × 2 of type int</caption>\n",
              "<tbody>\n",
              "\t<tr><td>1</td><td>4</td></tr>\n",
              "\t<tr><td>2</td><td>5</td></tr>\n",
              "\t<tr><td>3</td><td>6</td></tr>\n",
              "</tbody>\n",
              "</table>\n"
            ]
          },
          "metadata": {
            "tags": []
          }
        },
        {
          "output_type": "display_data",
          "data": {
            "text/plain": [
              "     [,1] [,2] [,3]\n",
              "[1,] 7     9   11  \n",
              "[2,] 8    10   12  "
            ],
            "text/latex": "A matrix: 2 × 3 of type int\n\\begin{tabular}{lll}\n\t 7 &  9 & 11\\\\\n\t 8 & 10 & 12\\\\\n\\end{tabular}\n",
            "text/markdown": "\nA matrix: 2 × 3 of type int\n\n| 7 |  9 | 11 |\n| 8 | 10 | 12 |\n\n",
            "text/html": [
              "<table class=\"dataframe\">\n",
              "<caption>A matrix: 2 × 3 of type int</caption>\n",
              "<tbody>\n",
              "\t<tr><td>7</td><td> 9</td><td>11</td></tr>\n",
              "\t<tr><td>8</td><td>10</td><td>12</td></tr>\n",
              "</tbody>\n",
              "</table>\n"
            ]
          },
          "metadata": {
            "tags": []
          }
        },
        {
          "output_type": "display_data",
          "data": {
            "text/plain": [
              "[1] 5"
            ],
            "text/latex": "5",
            "text/markdown": "5",
            "text/html": [
              "5"
            ]
          },
          "metadata": {
            "tags": []
          }
        },
        {
          "output_type": "display_data",
          "data": {
            "text/plain": [
              "[1] 2 5"
            ],
            "text/latex": "\\begin{enumerate*}\n\\item 2\n\\item 5\n\\end{enumerate*}\n",
            "text/markdown": "1. 2\n2. 5\n\n\n",
            "text/html": [
              "<style>\n",
              ".list-inline {list-style: none; margin:0; padding: 0}\n",
              ".list-inline>li {display: inline-block}\n",
              ".list-inline>li:not(:last-child)::after {content: \"\\00b7\"; padding: 0 .5ex}\n",
              "</style>\n",
              "<ol class=list-inline><li>2</li><li>5</li></ol>\n"
            ]
          },
          "metadata": {
            "tags": []
          }
        },
        {
          "output_type": "display_data",
          "data": {
            "text/plain": [
              "[1] 4 5 6"
            ],
            "text/latex": "\\begin{enumerate*}\n\\item 4\n\\item 5\n\\item 6\n\\end{enumerate*}\n",
            "text/markdown": "1. 4\n2. 5\n3. 6\n\n\n",
            "text/html": [
              "<style>\n",
              ".list-inline {list-style: none; margin:0; padding: 0}\n",
              ".list-inline>li {display: inline-block}\n",
              ".list-inline>li:not(:last-child)::after {content: \"\\00b7\"; padding: 0 .5ex}\n",
              "</style>\n",
              "<ol class=list-inline><li>4</li><li>5</li><li>6</li></ol>\n"
            ]
          },
          "metadata": {
            "tags": []
          }
        }
      ]
    },
    {
      "cell_type": "code",
      "metadata": {
        "colab": {
          "base_uri": "https://localhost:8080/"
        },
        "id": "XNJcA3N2SBBF",
        "outputId": "73bcfdad-eb7b-4351-f62f-993e4d73ef80"
      },
      "source": [
        "install.packages(\"SportsAnalytics\")"
      ],
      "execution_count": 17,
      "outputs": [
        {
          "output_type": "stream",
          "text": [
            "Installing package into ‘/usr/local/lib/R/site-library’\n",
            "(as ‘lib’ is unspecified)\n",
            "\n"
          ],
          "name": "stderr"
        }
      ]
    },
    {
      "cell_type": "code",
      "metadata": {
        "id": "tfvsKfbISJgT"
      },
      "source": [
        "library(SportsAnalytics)"
      ],
      "execution_count": 42,
      "outputs": []
    },
    {
      "cell_type": "code",
      "metadata": {
        "id": "by44o8kiSokk"
      },
      "source": [
        "NBA1516 <- fetch_NBAPlayerStatistics(\"15-16\")"
      ],
      "execution_count": 24,
      "outputs": []
    },
    {
      "cell_type": "code",
      "metadata": {
        "id": "aJYGuJ8oTSdb"
      },
      "source": [
        "str(NBA1516)"
      ],
      "execution_count": null,
      "outputs": []
    },
    {
      "cell_type": "code",
      "metadata": {
        "id": "dzlvi-FLTYsu"
      },
      "source": [
        "head(NBA1516)"
      ],
      "execution_count": null,
      "outputs": []
    },
    {
      "cell_type": "code",
      "metadata": {
        "id": "0FDsqBXpTqK8"
      },
      "source": [
        "subset(NBA1516,Team==\"LAC\")"
      ],
      "execution_count": null,
      "outputs": []
    },
    {
      "cell_type": "code",
      "metadata": {
        "id": "xdIvlfMiUGjU"
      },
      "source": [
        "NBA1516[grepl(\"Curry\",NBA1516$Name),]"
      ],
      "execution_count": null,
      "outputs": []
    },
    {
      "cell_type": "code",
      "metadata": {
        "id": "o2AhUncXUlwE"
      },
      "source": [
        "subset(NBA1516,Position==\"LAC\")"
      ],
      "execution_count": null,
      "outputs": []
    }
  ]
}