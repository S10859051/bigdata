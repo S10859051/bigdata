{
  "nbformat": 4,
  "nbformat_minor": 0,
  "metadata": {
    "colab": {
      "name": "0316_homework.ipynb",
      "provenance": [],
      "collapsed_sections": [],
      "include_colab_link": true
    },
    "kernelspec": {
      "name": "ir",
      "display_name": "R"
    }
  },
  "cells": [
    {
      "cell_type": "markdown",
      "metadata": {
        "id": "view-in-github",
        "colab_type": "text"
      },
      "source": [
        "<a href=\"https://colab.research.google.com/github/S10859051/bigdata/blob/main/0316_homework.ipynb\" target=\"_parent\"><img src=\"https://colab.research.google.com/assets/colab-badge.svg\" alt=\"Open In Colab\"/></a>"
      ]
    },
    {
      "cell_type": "code",
      "metadata": {
        "colab": {
          "base_uri": "https://localhost:8080/"
        },
        "id": "mGGvYkVOUK_f",
        "outputId": "d8da87b7-3204-45ae-9db9-a12fddd7f9f3"
      },
      "source": [
        "install.packages(\"jsonlite\")"
      ],
      "execution_count": 3,
      "outputs": [
        {
          "output_type": "stream",
          "text": [
            "Installing package into ‘/usr/local/lib/R/site-library’\n",
            "(as ‘lib’ is unspecified)\n",
            "\n"
          ],
          "name": "stderr"
        }
      ]
    },
    {
      "cell_type": "code",
      "metadata": {
        "id": "rCy3VJmZUQWm"
      },
      "source": [
        "library(jsonlite)"
      ],
      "execution_count": 5,
      "outputs": []
    },
    {
      "cell_type": "code",
      "metadata": {
        "id": "C0xfzwzLUUOO"
      },
      "source": [
        "MyData <- jsonlite::fromJSON(\"https://www.cec.gov.tw/referendum/api\")"
      ],
      "execution_count": 8,
      "outputs": []
    },
    {
      "cell_type": "code",
      "metadata": {
        "id": "2GTYo24VUehN"
      },
      "source": [
        "str(MyData)"
      ],
      "execution_count": null,
      "outputs": []
    },
    {
      "cell_type": "code",
      "metadata": {
        "id": "e-oYs249VCvm"
      },
      "source": [
        "head(MyData$info$description, n=10)"
      ],
      "execution_count": null,
      "outputs": []
    },
    {
      "cell_type": "code",
      "metadata": {
        "id": "-heShDusVgAt"
      },
      "source": [
        "tail(MyData$components$schemas$referendumApiData$properties$content$attach$url, n=1)"
      ],
      "execution_count": null,
      "outputs": []
    },
    {
      "cell_type": "code",
      "metadata": {
        "id": "9_R30LYbWC2V"
      },
      "source": [
        "table(MyData$info)"
      ],
      "execution_count": null,
      "outputs": []
    },
    {
      "cell_type": "code",
      "metadata": {
        "id": "vsPfdzWlXpFm"
      },
      "source": [
        "table(MyData$components)"
      ],
      "execution_count": null,
      "outputs": []
    },
    {
      "cell_type": "code",
      "metadata": {
        "id": "bkACIoMjYLlu"
      },
      "source": [
        "table(MyData$paths)"
      ],
      "execution_count": null,
      "outputs": []
    }
  ]
}