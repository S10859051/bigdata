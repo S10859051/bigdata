{
  "nbformat": 4,
  "nbformat_minor": 0,
  "metadata": {
    "colab": {
      "name": "0420期中考.ipynb",
      "provenance": [],
      "collapsed_sections": [],
      "include_colab_link": true
    },
    "kernelspec": {
      "name": "ir",
      "display_name": "R"
    }
  },
  "cells": [
    {
      "cell_type": "markdown",
      "metadata": {
        "id": "view-in-github",
        "colab_type": "text"
      },
      "source": [
        "<a href=\"https://colab.research.google.com/github/S10859051/bigdata/blob/main/0420%E6%9C%9F%E4%B8%AD%E8%80%83.ipynb\" target=\"_parent\"><img src=\"https://colab.research.google.com/assets/colab-badge.svg\" alt=\"Open In Colab\"/></a>"
      ]
    },
    {
      "cell_type": "code",
      "metadata": {
        "colab": {
          "base_uri": "https://localhost:8080/"
        },
        "id": "J97SXLt8VH9m",
        "outputId": "3a0a331d-7ce1-4892-d23c-550304fc55bd"
      },
      "source": [
        "install.packages(\"SportsAnalytics\")\n",
        "library(SportsAnalytics)\n",
        "NBA1718<-fetch_NBAPlayerStatistics(\"17-18\")"
      ],
      "execution_count": 91,
      "outputs": [
        {
          "output_type": "stream",
          "text": [
            "Installing package into ‘/usr/local/lib/R/site-library’\n",
            "(as ‘lib’ is unspecified)\n",
            "\n"
          ],
          "name": "stderr"
        }
      ]
    },
    {
      "cell_type": "code",
      "metadata": {
        "id": "2TISqoF5VuD2"
      },
      "source": [
        "NBA1718orderM<-NBA1718[order(NBA1718$TotalMinutesPlayed,decreasing = T),]\n",
        "NBA1718orderM[1:5,]"
      ],
      "execution_count": null,
      "outputs": []
    },
    {
      "cell_type": "code",
      "metadata": {
        "id": "EtLHnXiQYAqf"
      },
      "source": [
        "subset(NBA1718,Position==\"SF\")"
      ],
      "execution_count": null,
      "outputs": []
    },
    {
      "cell_type": "code",
      "metadata": {
        "id": "cgcrc0ihYYod"
      },
      "source": [
        "NBA1718[grepl(\"Lebron\",NBA1718$Name),]"
      ],
      "execution_count": null,
      "outputs": []
    },
    {
      "cell_type": "code",
      "metadata": {
        "id": "dwfY2yW3Z7Td",
        "colab": {
          "base_uri": "https://localhost:8080/"
        },
        "outputId": "cb943110-13ea-49f2-f251-0c08bcf1f3a5"
      },
      "source": [
        "install.packages(\"ggplot2\")\n",
        "library(ggplot2)"
      ],
      "execution_count": 100,
      "outputs": [
        {
          "output_type": "stream",
          "text": [
            "Installing package into ‘/usr/local/lib/R/site-library’\n",
            "(as ‘lib’ is unspecified)\n",
            "\n"
          ],
          "name": "stderr"
        }
      ]
    },
    {
      "cell_type": "code",
      "metadata": {
        "id": "Emz-DqGyaKdV"
      },
      "source": [
        "df<-data.frame(gp=factor(rep(letters[1:6],each=20)),y=rnorm(40))\n",
        "ggplot(df,aes(x=gp,y=y))+geom_point()"
      ],
      "execution_count": null,
      "outputs": []
    },
    {
      "cell_type": "code",
      "metadata": {
        "id": "HedueJdCbIDO"
      },
      "source": [
        "df$z<-df$y+rnorm(30)\n",
        "ggplot(df,aes(x=z,y=y))+geom_point()+facet_grid(gp~.)"
      ],
      "execution_count": null,
      "outputs": []
    },
    {
      "cell_type": "code",
      "metadata": {
        "id": "cmvWXqdxbsbH"
      },
      "source": [
        "ggplot(df,aes(x=z,y=y))+geom_point()+facet_grid(gp~.)+geom_smooth()"
      ],
      "execution_count": 107,
      "outputs": []
    },
    {
      "cell_type": "code",
      "metadata": {
        "id": "DWvc77IXcTL2"
      },
      "source": [
        "ggplot(df,aes(x=z,y=y))+geom_line()+facet_grid(gp~.)"
      ],
      "execution_count": null,
      "outputs": []
    },
    {
      "cell_type": "code",
      "metadata": {
        "id": "xlicctMtdate"
      },
      "source": [
        "ggplot(df,aes(x=z,y=y,color=gp))+geom_line()"
      ],
      "execution_count": null,
      "outputs": []
    }
  ]
}